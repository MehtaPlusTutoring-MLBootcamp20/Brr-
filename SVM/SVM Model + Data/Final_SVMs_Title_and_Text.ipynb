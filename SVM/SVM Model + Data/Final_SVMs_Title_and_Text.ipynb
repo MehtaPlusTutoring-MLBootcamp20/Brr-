{
  "nbformat": 4,
  "nbformat_minor": 0,
  "metadata": {
    "colab": {
      "name": "Final_Experiments_Title_and_Text.ipynb",
      "provenance": [],
      "authorship_tag": "ABX9TyPsSJBj5K0rtcDi14gdvsqp",
      "include_colab_link": true
    },
    "kernelspec": {
      "name": "python3",
      "display_name": "Python 3"
    }
  },
  "cells": [
    {
      "cell_type": "markdown",
      "metadata": {
        "id": "view-in-github",
        "colab_type": "text"
      },
      "source": [
        "<a href=\"https://colab.research.google.com/github/MehtaPlusTutoring-MLBootcamp20/Brr-/blob/master/Final_Experiments_Title_and_Text.ipynb\" target=\"_parent\"><img src=\"https://colab.research.google.com/assets/colab-badge.svg\" alt=\"Open In Colab\"/></a>"
      ]
    },
    {
      "cell_type": "code",
      "metadata": {
        "id": "Auytm-MRJ_mn",
        "colab_type": "code",
        "colab": {
          "base_uri": "https://localhost:8080/",
          "height": 122
        },
        "outputId": "d669e08a-a995-4b8f-e772-203fb0f717ff"
      },
      "source": [
        "from google.colab import drive\n",
        "drive.mount(\"/content/drive\", force_remount=True)"
      ],
      "execution_count": 1,
      "outputs": [
        {
          "output_type": "stream",
          "text": [
            "Go to this URL in a browser: https://accounts.google.com/o/oauth2/auth?client_id=947318989803-6bn6qk8qdgf4n4g3pfee6491hc0brc4i.apps.googleusercontent.com&redirect_uri=urn%3aietf%3awg%3aoauth%3a2.0%3aoob&response_type=code&scope=email%20https%3a%2f%2fwww.googleapis.com%2fauth%2fdocs.test%20https%3a%2f%2fwww.googleapis.com%2fauth%2fdrive%20https%3a%2f%2fwww.googleapis.com%2fauth%2fdrive.photos.readonly%20https%3a%2f%2fwww.googleapis.com%2fauth%2fpeopleapi.readonly\n",
            "\n",
            "Enter your authorization code:\n",
            "··········\n",
            "Mounted at /content/drive\n"
          ],
          "name": "stdout"
        }
      ]
    },
    {
      "cell_type": "code",
      "metadata": {
        "id": "0RevHQ0fLIR-",
        "colab_type": "code",
        "colab": {}
      },
      "source": [
        "import pandas as pd\n",
        "from scipy import sparse\n",
        "from scipy.sparse import hstack\n",
        "\n",
        "file_path = '/content/drive/My Drive/MLBootCamp'\n",
        "\n",
        "A = sparse.load_npz(file_path+ '/sparse_matrix_for_text.npz')\n",
        "B = sparse.load_npz(file_path+ '/sparse_matrix_for_title.npz')\n",
        "C= hstack([A,B])\n",
        "sparse.save_npz(\"sparse_matrix_for_all.npz\", C)\n",
        "\n",
        "\n",
        "labels = pd.read_csv(file_path + '/labels (1).csv')\n",
        "features = sparse.load_npz(\"sparse_matrix_for_all.npz\")"
      ],
      "execution_count": 2,
      "outputs": []
    },
    {
      "cell_type": "code",
      "metadata": {
        "id": "lCU9C6utLIa8",
        "colab_type": "code",
        "colab": {
          "base_uri": "https://localhost:8080/",
          "height": 34
        },
        "outputId": "206e81a1-db81-4b9e-f2a3-097a91887fbd"
      },
      "source": [
        "from sklearn.model_selection import train_test_split\n",
        "from sklearn import datasets\n",
        "from sklearn import svm\n",
        "import numpy as np\n",
        "\n",
        "\n",
        "X = features \n",
        "y = labels\n",
        "\n",
        "X_train, X_test, Y_train, Y_test = train_test_split(X, y, test_size=0.2, random_state=100) #split data for traininga\n",
        "\n",
        "clf = svm.SVC(kernel = \"linear\", C=.1)\n",
        "clf.fit(X_train, Y_train.values.ravel())\n",
        "\n",
        "accuracy = clf.score(X_test, Y_test) #accuracy\n",
        "print(\"This is the accuracy for the linear\", accuracy)"
      ],
      "execution_count": 3,
      "outputs": [
        {
          "output_type": "stream",
          "text": [
            "This is the accuracy for the linear 0.98068669527897\n"
          ],
          "name": "stdout"
        }
      ]
    },
    {
      "cell_type": "code",
      "metadata": {
        "id": "J_tZWBdJVwRk",
        "colab_type": "code",
        "colab": {
          "base_uri": "https://localhost:8080/",
          "height": 34
        },
        "outputId": "e1697a4f-9b82-4345-e50a-509811d7f28c"
      },
      "source": [
        "svc = svm.SVC(kernel='poly', C=1, degree=1, gamma=.1).fit(X_train, Y_train.values.ravel())\n",
        "print(\"poly\", svc.score(X_test, Y_test))"
      ],
      "execution_count": 4,
      "outputs": [
        {
          "output_type": "stream",
          "text": [
            "poly 0.98068669527897\n"
          ],
          "name": "stdout"
        }
      ]
    },
    {
      "cell_type": "code",
      "metadata": {
        "id": "5ZKxU5b6VwX8",
        "colab_type": "code",
        "colab": {
          "base_uri": "https://localhost:8080/",
          "height": 34
        },
        "outputId": "66b7432d-faa6-4523-d261-853228ec40f9"
      },
      "source": [
        "svc = svm.SVC(kernel='sigmoid', C=10, gamma=.1).fit(X_train, Y_train.values.ravel())\n",
        "print(\"sigmoid\", svc.score(X_test, Y_test))"
      ],
      "execution_count": 5,
      "outputs": [
        {
          "output_type": "stream",
          "text": [
            "sigmoid 0.9094194714253445\n"
          ],
          "name": "stdout"
        }
      ]
    },
    {
      "cell_type": "code",
      "metadata": {
        "id": "buZ6yaDvVwPX",
        "colab_type": "code",
        "colab": {
          "base_uri": "https://localhost:8080/",
          "height": 34
        },
        "outputId": "2afbe461-e6bd-4405-efea-40aac78e0a9f"
      },
      "source": [
        "from sklearn.model_selection import train_test_split\n",
        "from sklearn import datasets\n",
        "from sklearn import svm\n",
        "import numpy as np\n",
        "\n",
        "\n",
        "X = features \n",
        "y = labels\n",
        "\n",
        "X_train, X_test, Y_train, Y_test = train_test_split(X, y, test_size=0.2, random_state=100)\n",
        "\n",
        "svc = svm.SVC(kernel='rbf', gamma=.1, C=10).fit(X_train, Y_train.values.ravel())\n",
        "print(\"rbf\", svc.score(X_test, Y_test))"
      ],
      "execution_count": 3,
      "outputs": [
        {
          "output_type": "stream",
          "text": [
            "rbf 0.6839846397108651\n"
          ],
          "name": "stdout"
        }
      ]
    },
    {
      "cell_type": "code",
      "metadata": {
        "id": "usTOVmeTlhxZ",
        "colab_type": "code",
        "colab": {
          "base_uri": "https://localhost:8080/",
          "height": 34
        },
        "outputId": "8bbd783b-75b8-49e4-f19c-881b02689671"
      },
      "source": [
        "svc = svm.SVC(kernel='poly', C=1, degree=1).fit(X_train, Y_train.values.ravel())\n",
        "print(\"poly\", svc.score(X_test, Y_test))"
      ],
      "execution_count": 5,
      "outputs": [
        {
          "output_type": "stream",
          "text": [
            "poly 0.9801219787666592\n"
          ],
          "name": "stdout"
        }
      ]
    },
    {
      "cell_type": "markdown",
      "metadata": {
        "id": "iNDOGtwXlr1J",
        "colab_type": "text"
      },
      "source": [
        "## Sigmoid using default gamma value but c=10 is a 98.4% accuracy which was also the most accurate"
      ]
    }
  ]
}