{
  "nbformat": 4,
  "nbformat_minor": 0,
  "metadata": {
    "colab": {
      "name": "SVM_with_data.ipynb",
      "provenance": []
    },
    "kernelspec": {
      "name": "python3",
      "display_name": "Python 3"
    },
    "accelerator": "GPU"
  },
  "cells": [
    {
      "cell_type": "code",
      "metadata": {
        "id": "GN1nmh77ASiD",
        "colab_type": "code",
        "colab": {
          "base_uri": "https://localhost:8080/",
          "height": 121
        },
        "outputId": "95f35cfd-7485-4858-b4fa-274846b13ec4"
      },
      "source": [
        "from google.colab import drive\n",
        "drive.mount('/content/drive')"
      ],
      "execution_count": 1,
      "outputs": [
        {
          "output_type": "stream",
          "text": [
            "Go to this URL in a browser: https://accounts.google.com/o/oauth2/auth?client_id=947318989803-6bn6qk8qdgf4n4g3pfee6491hc0brc4i.apps.googleusercontent.com&redirect_uri=urn%3aietf%3awg%3aoauth%3a2.0%3aoob&response_type=code&scope=email%20https%3a%2f%2fwww.googleapis.com%2fauth%2fdocs.test%20https%3a%2f%2fwww.googleapis.com%2fauth%2fdrive%20https%3a%2f%2fwww.googleapis.com%2fauth%2fdrive.photos.readonly%20https%3a%2f%2fwww.googleapis.com%2fauth%2fpeopleapi.readonly\n",
            "\n",
            "Enter your authorization code:\n",
            "··········\n",
            "Mounted at /content/drive\n"
          ],
          "name": "stdout"
        }
      ]
    },
    {
      "cell_type": "code",
      "metadata": {
        "id": "WAyVIHelAmO0",
        "colab_type": "code",
        "colab": {}
      },
      "source": [
        "import pandas as pd\n",
        "from scipy import sparse"
      ],
      "execution_count": 2,
      "outputs": []
    },
    {
      "cell_type": "code",
      "metadata": {
        "id": "btBS1C6-AVlU",
        "colab_type": "code",
        "colab": {}
      },
      "source": [
        "\n",
        "file_path = '/content/drive/My Drive/MIT AI Class Work/Final Project'\n",
        "labels = pd.read_csv(file_path + '/labels.csv')\n",
        "features = sparse.load_npz(file_path+ '/ngram.npz')"
      ],
      "execution_count": 3,
      "outputs": []
    },
    {
      "cell_type": "code",
      "metadata": {
        "id": "a2dyVJtCAKF8",
        "colab_type": "code",
        "colab": {
          "base_uri": "https://localhost:8080/",
          "height": 101
        },
        "outputId": "9bfa6ee5-156c-43c5-e83a-c1635faf25ab"
      },
      "source": [
        "#comment\n",
        "from sklearn.model_selection import train_test_split\n",
        "from sklearn import datasets\n",
        "from sklearn import svm\n",
        "import numpy as np\n",
        "\n",
        "\n",
        "\n",
        "X = features \n",
        "y = labels\n",
        "\n",
        "X_train, X_test, Y_train, Y_test = train_test_split(X, y, test_size=0.2) #split data for traininga\n",
        "\n",
        "clf = svm.SVC(kernel = \"linear\") #SVM Model, default C-value\n",
        "clf.fit(X_train, Y_train.values.ravel())\n",
        "\n",
        "accuracy = clf.score(X_test, Y_test)\n",
        "print(\"This is the accuracy \", accuracy)\n",
        "\n",
        "C_values = [0.001, 0.01, 0.1, 1] #test various C-values to determine which gives the best accuraccy\n",
        "for i in C_values:\n",
        "  clf = svm.SVC(kernel = \"linear\", C=i)\n",
        "  clf.fit(X_train, Y_train.values.ravel())\n",
        "  print(i, clf.score(X_test, Y_test))"
      ],
      "execution_count": 4,
      "outputs": [
        {
          "output_type": "stream",
          "text": [
            "This is the accuracy  0.8924779760560199\n",
            "0.001 0.5115202168511407\n",
            "0.01 0.7092839394623899\n",
            "0.1 0.879489496272871\n",
            "1 0.8924779760560199\n"
          ],
          "name": "stdout"
        }
      ]
    }
  ]
}